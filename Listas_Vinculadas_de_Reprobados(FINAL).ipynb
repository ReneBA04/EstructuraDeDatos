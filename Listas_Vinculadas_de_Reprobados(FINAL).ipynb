{
  "nbformat": 4,
  "nbformat_minor": 0,
  "metadata": {
    "colab": {
      "provenance": [],
      "authorship_tag": "ABX9TyPevqriMP+MQ+Hd6QL/0GuR",
      "include_colab_link": true
    },
    "kernelspec": {
      "name": "python3",
      "display_name": "Python 3"
    },
    "language_info": {
      "name": "python"
    }
  },
  "cells": [
    {
      "cell_type": "markdown",
      "metadata": {
        "id": "view-in-github",
        "colab_type": "text"
      },
      "source": [
        "<a href=\"https://colab.research.google.com/github/ReneBA04/EstructuraDeDatos/blob/main/Listas_Vinculadas_de_Reprobados(FINAL).ipynb\" target=\"_parent\"><img src=\"https://colab.research.google.com/assets/colab-badge.svg\" alt=\"Open In Colab\"/></a>"
      ]
    },
    {
      "cell_type": "code",
      "execution_count": null,
      "metadata": {
        "id": "s3P-In2EEnYJ"
      },
      "outputs": [],
      "source": [
        "#creando la clase para nodo\n",
        "class Node:\n",
        "  def __init__(self, data = None, next = None):\n",
        "    self.data=data\n",
        "    self.next=next"
      ]
    },
    {
      "cell_type": "code",
      "source": [
        "#Creacion de la clase lista vinculada \"Linked list\"\n",
        "class linked_list:\n",
        "  def __init__(self):\n",
        "    self.head = None"
      ],
      "metadata": {
        "id": "WAiqGJRTFRbK"
      },
      "execution_count": null,
      "outputs": []
    },
    {
      "cell_type": "code",
      "source": [
        "#Agregamos un método para la agregación de elementos en el frente de la lista vinculada\n",
        "def add_at_front(self):\n",
        "  self.head = node(data=data, next=self.head)"
      ],
      "metadata": {
        "id": "rCzzRj2OFjxS"
      },
      "execution_count": null,
      "outputs": []
    },
    {
      "cell_type": "code",
      "source": [
        "#Agregamos otro método para verificar si la estructura se encuentra vacia\n",
        "def is_empty(self):\n",
        "  return self.head == None"
      ],
      "metadata": {
        "id": "9ZGqgwWnF_OJ"
      },
      "execution_count": null,
      "outputs": []
    },
    {
      "cell_type": "code",
      "source": [
        "#Método para agregar elementos al final de la lista vinculada\n",
        "def add_at_end(self):\n",
        "  if not self.head:\n",
        "    delf.head = node(data=data)\n",
        "    return\n",
        "  curr = self.head\n",
        "  while curr.next:\n",
        "    curr = curr.next\n",
        "  curr.next = node(data=data)"
      ],
      "metadata": {
        "id": "m31VSiKlGStb"
      },
      "execution_count": null,
      "outputs": []
    },
    {
      "cell_type": "code",
      "source": [
        "#Eliminación de nodos\n",
        "def delete_node(self,key):\n",
        "  curr = self.head\n",
        "  prev = None\n",
        "  while curr and curr.data != key:\n",
        "    prev = curr\n",
        "    curr = curr.next\n",
        "  if prev is None:\n",
        "    self.head = curr.next\n",
        "  elif curr:\n",
        "    prev.next = curr.next\n",
        "    curr.next = None"
      ],
      "metadata": {
        "id": "3_7fJmkoHHYx"
      },
      "execution_count": null,
      "outputs": []
    },
    {
      "cell_type": "code",
      "source": [
        "#Obtención del último nodo\n",
        "def get_last_node(self):\n",
        "  temp = self.head\n",
        "  while (temp.next in not None):\n",
        "    temp = temp.next\n",
        "  return temp.data"
      ],
      "metadata": {
        "id": "Y1KDHhZ4H_0B"
      },
      "execution_count": null,
      "outputs": []
    },
    {
      "cell_type": "code",
      "source": [
        "#Imprimimos la lista de nodos\n",
        "def print_list(self):\n",
        "  node = self.head\n",
        "  while node != None:\n",
        "    print(node, data, end\"=>\"\")\n",
        "    node = node.next"
      ],
      "metadata": {
        "id": "UGvjKN-HImQC"
      },
      "execution_count": null,
      "outputs": []
    },
    {
      "cell_type": "code",
      "source": [
        "s = linked_list()\n",
        "s.add_at_front(\"Bodoque\")\n",
        "s.add_at_end(\"Cucho\")\n",
        "s.add_att_front(\"Demostenes\")\n",
        "\n",
        "s.print_list()"
      ],
      "metadata": {
        "id": "6ZRNGmZxLGqh"
      },
      "execution_count": null,
      "outputs": []
    }
  ]
}